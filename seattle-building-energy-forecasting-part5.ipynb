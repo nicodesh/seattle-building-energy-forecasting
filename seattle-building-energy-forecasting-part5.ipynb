{
 "cells": [
  {
   "cell_type": "markdown",
   "metadata": {},
   "source": [
    "# Seattle Building Energy Forecasting\n",
    "\n",
    "URL: https://www.kaggle.com/city-of-seattle/sea-building-energy-benchmarking\n",
    "\n",
    "## Notebook n°5 - Modelling\n",
    "\n",
    "Objective: Create dummy variables and try different models\n",
    "\n",
    "---"
   ]
  },
  {
   "cell_type": "code",
   "execution_count": 63,
   "metadata": {},
   "outputs": [],
   "source": [
    "import time\n",
    "import warnings\n",
    "import re\n",
    "import pickle\n",
    "import numpy as np\n",
    "import matplotlib.pyplot as plt\n",
    "import seaborn as sns\n",
    "import pandas as pd\n",
    "from sklearn.preprocessing import StandardScaler\n",
    "from sklearn.metrics import r2_score, mean_squared_error\n",
    "from sklearn.ensemble import RandomForestRegressor, GradientBoostingRegressor\n",
    "from sklearn.model_selection import GridSearchCV, train_test_split"
   ]
  },
  {
   "cell_type": "markdown",
   "metadata": {},
   "source": [
    "## Settings"
   ]
  },
  {
   "cell_type": "code",
   "execution_count": 64,
   "metadata": {},
   "outputs": [],
   "source": [
    "sns.set(style=\"whitegrid\")\n",
    "warnings.filterwarnings('ignore')\n",
    "pd.options.display.max_rows = 200\n",
    "\n",
    "target1 = \"SiteEnergyUse(kBtu)\"\n",
    "target2 = \"TotalGHGEmissions\"\n",
    "\n",
    "TARGET = target2"
   ]
  },
  {
   "cell_type": "markdown",
   "metadata": {},
   "source": [
    "## Import data"
   ]
  },
  {
   "cell_type": "code",
   "execution_count": 65,
   "metadata": {},
   "outputs": [],
   "source": [
    "with open(\"data/part4.pkl\", \"rb\") as f:\n",
    "    my_unpickler = pickle.Unpickler(f)\n",
    "    data = my_unpickler.load()\n",
    "    \n",
    "with open(\"data/part4-data-with-outliers.pkl\", \"rb\") as f:\n",
    "    my_unpickler = pickle.Unpickler(f)\n",
    "    data_with_outliers = my_unpickler.load()"
   ]
  },
  {
   "cell_type": "code",
   "execution_count": 66,
   "metadata": {
    "scrolled": true
   },
   "outputs": [
    {
     "data": {
      "text/html": [
       "<div>\n",
       "<style scoped>\n",
       "    .dataframe tbody tr th:only-of-type {\n",
       "        vertical-align: middle;\n",
       "    }\n",
       "\n",
       "    .dataframe tbody tr th {\n",
       "        vertical-align: top;\n",
       "    }\n",
       "\n",
       "    .dataframe thead th {\n",
       "        text-align: right;\n",
       "    }\n",
       "</style>\n",
       "<table border=\"1\" class=\"dataframe\">\n",
       "  <thead>\n",
       "    <tr style=\"text-align: right;\">\n",
       "      <th></th>\n",
       "      <th>DataYear</th>\n",
       "      <th>BuildingType</th>\n",
       "      <th>PrimaryPropertyType</th>\n",
       "      <th>CouncilDistrictCode</th>\n",
       "      <th>Neighborhood</th>\n",
       "      <th>YearBuilt</th>\n",
       "      <th>NumberofFloors</th>\n",
       "      <th>LargestPropertyUseType</th>\n",
       "      <th>ENERGYSTARScore</th>\n",
       "      <th>SiteEnergyUse(kBtu)</th>\n",
       "      <th>TotalGHGEmissions</th>\n",
       "      <th>Latitude</th>\n",
       "      <th>Longitude</th>\n",
       "      <th>Address</th>\n",
       "      <th>ZipCode</th>\n",
       "      <th>default_data</th>\n",
       "      <th>lat_long_range</th>\n",
       "      <th>address_type</th>\n",
       "    </tr>\n",
       "  </thead>\n",
       "  <tbody>\n",
       "    <tr>\n",
       "      <th>0</th>\n",
       "      <td>2015</td>\n",
       "      <td>NonResidential</td>\n",
       "      <td>Hotel</td>\n",
       "      <td>7</td>\n",
       "      <td>DOWNTOWN</td>\n",
       "      <td>1927</td>\n",
       "      <td>12.0</td>\n",
       "      <td>Hotel</td>\n",
       "      <td>65.0</td>\n",
       "      <td>6981428.0</td>\n",
       "      <td>249.43</td>\n",
       "      <td>47.612190</td>\n",
       "      <td>-122.337997</td>\n",
       "      <td>405 OLIVE WAY</td>\n",
       "      <td>98101.0</td>\n",
       "      <td>False</td>\n",
       "      <td>62</td>\n",
       "      <td>Way</td>\n",
       "    </tr>\n",
       "    <tr>\n",
       "      <th>1</th>\n",
       "      <td>2015</td>\n",
       "      <td>NonResidential</td>\n",
       "      <td>Hotel</td>\n",
       "      <td>7</td>\n",
       "      <td>DOWNTOWN</td>\n",
       "      <td>1996</td>\n",
       "      <td>11.0</td>\n",
       "      <td>Hotel</td>\n",
       "      <td>51.0</td>\n",
       "      <td>8354235.0</td>\n",
       "      <td>263.51</td>\n",
       "      <td>47.613106</td>\n",
       "      <td>-122.333358</td>\n",
       "      <td>724 PINE ST</td>\n",
       "      <td>98101.0</td>\n",
       "      <td>False</td>\n",
       "      <td>62</td>\n",
       "      <td>Street</td>\n",
       "    </tr>\n",
       "    <tr>\n",
       "      <th>5</th>\n",
       "      <td>2015</td>\n",
       "      <td>Nonresidential COS</td>\n",
       "      <td>Other</td>\n",
       "      <td>7</td>\n",
       "      <td>DOWNTOWN</td>\n",
       "      <td>1999</td>\n",
       "      <td>2.0</td>\n",
       "      <td>Police Station</td>\n",
       "      <td>NaN</td>\n",
       "      <td>12051984.0</td>\n",
       "      <td>304.62</td>\n",
       "      <td>47.616439</td>\n",
       "      <td>-122.336764</td>\n",
       "      <td>810 VIRGINIA ST</td>\n",
       "      <td>98101.0</td>\n",
       "      <td>False</td>\n",
       "      <td>62</td>\n",
       "      <td>Street</td>\n",
       "    </tr>\n",
       "    <tr>\n",
       "      <th>6</th>\n",
       "      <td>2015</td>\n",
       "      <td>NonResidential</td>\n",
       "      <td>Hotel</td>\n",
       "      <td>7</td>\n",
       "      <td>DOWNTOWN</td>\n",
       "      <td>1926</td>\n",
       "      <td>11.0</td>\n",
       "      <td>Hotel</td>\n",
       "      <td>25.0</td>\n",
       "      <td>6252842.0</td>\n",
       "      <td>208.46</td>\n",
       "      <td>47.614114</td>\n",
       "      <td>-122.332741</td>\n",
       "      <td>1619 9TH AVE</td>\n",
       "      <td>98101.0</td>\n",
       "      <td>False</td>\n",
       "      <td>62</td>\n",
       "      <td>Avenue</td>\n",
       "    </tr>\n",
       "    <tr>\n",
       "      <th>7</th>\n",
       "      <td>2015</td>\n",
       "      <td>NonResidential</td>\n",
       "      <td>Other</td>\n",
       "      <td>7</td>\n",
       "      <td>DOWNTOWN</td>\n",
       "      <td>1926</td>\n",
       "      <td>8.0</td>\n",
       "      <td>Other - Entertainment/Public Assembly</td>\n",
       "      <td>NaN</td>\n",
       "      <td>6426022.0</td>\n",
       "      <td>199.99</td>\n",
       "      <td>47.612902</td>\n",
       "      <td>-122.331309</td>\n",
       "      <td>901 PINE ST</td>\n",
       "      <td>98101.0</td>\n",
       "      <td>False</td>\n",
       "      <td>62</td>\n",
       "      <td>Street</td>\n",
       "    </tr>\n",
       "  </tbody>\n",
       "</table>\n",
       "</div>"
      ],
      "text/plain": [
       "   DataYear        BuildingType PrimaryPropertyType  CouncilDistrictCode  \\\n",
       "0      2015      NonResidential               Hotel                    7   \n",
       "1      2015      NonResidential               Hotel                    7   \n",
       "5      2015  Nonresidential COS               Other                    7   \n",
       "6      2015      NonResidential               Hotel                    7   \n",
       "7      2015      NonResidential               Other                    7   \n",
       "\n",
       "  Neighborhood  YearBuilt  NumberofFloors  \\\n",
       "0     DOWNTOWN       1927            12.0   \n",
       "1     DOWNTOWN       1996            11.0   \n",
       "5     DOWNTOWN       1999             2.0   \n",
       "6     DOWNTOWN       1926            11.0   \n",
       "7     DOWNTOWN       1926             8.0   \n",
       "\n",
       "                  LargestPropertyUseType  ENERGYSTARScore  \\\n",
       "0                                  Hotel             65.0   \n",
       "1                                  Hotel             51.0   \n",
       "5                         Police Station              NaN   \n",
       "6                                  Hotel             25.0   \n",
       "7  Other - Entertainment/Public Assembly              NaN   \n",
       "\n",
       "   SiteEnergyUse(kBtu)  TotalGHGEmissions   Latitude   Longitude  \\\n",
       "0            6981428.0             249.43  47.612190 -122.337997   \n",
       "1            8354235.0             263.51  47.613106 -122.333358   \n",
       "5           12051984.0             304.62  47.616439 -122.336764   \n",
       "6            6252842.0             208.46  47.614114 -122.332741   \n",
       "7            6426022.0             199.99  47.612902 -122.331309   \n",
       "\n",
       "           Address  ZipCode default_data lat_long_range address_type  \n",
       "0    405 OLIVE WAY  98101.0        False             62          Way  \n",
       "1      724 PINE ST  98101.0        False             62       Street  \n",
       "5  810 VIRGINIA ST  98101.0        False             62       Street  \n",
       "6     1619 9TH AVE  98101.0        False             62       Avenue  \n",
       "7      901 PINE ST  98101.0        False             62       Street  "
      ]
     },
     "execution_count": 66,
     "metadata": {},
     "output_type": "execute_result"
    }
   ],
   "source": [
    "data.head()"
   ]
  },
  {
   "cell_type": "markdown",
   "metadata": {},
   "source": [
    "## Functions"
   ]
  },
  {
   "cell_type": "code",
   "execution_count": 67,
   "metadata": {},
   "outputs": [],
   "source": [
    "def onehot(data, feature):\n",
    "    \n",
    "    # Get dummy variables\n",
    "    temp_df = pd.get_dummies(data[feature])\n",
    "    \n",
    "    # Add prefix to prevent duplicated feature names\n",
    "    temp_df = temp_df.add_prefix(feature + \"_\")\n",
    "    \n",
    "    # Concatenante the new features with the main dataframes\n",
    "    data = pd.concat([data, temp_df], axis=1)\n",
    "    \n",
    "    # Drop the original feature\n",
    "    data.drop(feature, axis=1, inplace=True)\n",
    "    \n",
    "    # Return the new dataframe\n",
    "    return data\n",
    "\n",
    "def cat_analysis(df, feature, x, y, figsize=(8,5), rotation=\"45\", palette=None, order=None):\n",
    "    \n",
    "    data = (pd.DataFrame(df[feature].value_counts())\n",
    "                .reset_index()\n",
    "                .rename(columns={'index': x, feature: y}))\n",
    "    \n",
    "    fig, ax = plt.subplots(figsize=figsize)\n",
    "    ax = sns.barplot(x=x, y=y, data=data, palette=palette, order=order);\n",
    "    plt.xticks(rotation=rotation)\n",
    "    plt.show()\n",
    "    \n",
    "def prepare_data(data, energystarscore=\"fill\"):\n",
    "    \n",
    "    # Copy original data\n",
    "    data_copy = data.copy()\n",
    "    \n",
    "    # Building Type\n",
    "    data_copy = onehot(data_copy, \"BuildingType\")\n",
    "    \n",
    "    # CouncilDistrictCode\n",
    "    data_copy = onehot(data_copy, \"CouncilDistrictCode\")\n",
    "    \n",
    "    # Neighborhood\n",
    "    data_copy = onehot(data_copy, \"Neighborhood\")\n",
    "    \n",
    "    # LargestPropertyUseType\n",
    "    data_copy = onehot(data_copy, \"LargestPropertyUseType\")\n",
    "    \n",
    "    # PrimaryPropertyType\n",
    "    data_copy = onehot(data_copy, \"PrimaryPropertyType\")\n",
    "    \n",
    "    # DataYear\n",
    "    data_copy.drop(\"DataYear\", axis=1, inplace=True)\n",
    "    \n",
    "    # Address\n",
    "    data_copy.drop(\"Address\", axis=1, inplace=True)\n",
    "    \n",
    "    # address_type\n",
    "    data_copy.drop(\"address_type\", axis=1, inplace=True)\n",
    "    \n",
    "    # lat_long_range\n",
    "    data_copy.drop(\"lat_long_range\", axis=1, inplace=True)\n",
    "    \n",
    "    # ZipCode\n",
    "    data_copy.drop(\"ZipCode\", axis=1, inplace=True)\n",
    "    \n",
    "    # default_data\n",
    "    data_copy.drop(\"default_data\", axis=1, inplace=True)\n",
    "    \n",
    "    # ENERGYSTARScore\n",
    "    if (energystarscore == \"fill\"):\n",
    "        data_copy[\"ENERGYSTARScore\"].fillna(data_copy[\"ENERGYSTARScore\"].dropna().mean(), inplace=True)\n",
    "    elif (energystarscore == \"drop\"):\n",
    "        mask = data_copy[\"ENERGYSTARScore\"].isna()\n",
    "        data_copy = data_copy[~mask]\n",
    "\n",
    "    return data_copy"
   ]
  },
  {
   "cell_type": "code",
   "execution_count": 76,
   "metadata": {},
   "outputs": [],
   "source": [
    "data_prep = prepare_data(data)\n",
    "data_prep_ess = prepare_data(data, energystarscore=\"drop\")\n",
    "data_with_outliers_prep = prepare_data(data_with_outliers, energystarscore=\"drop\")"
   ]
  },
  {
   "cell_type": "markdown",
   "metadata": {},
   "source": [
    "## Overview"
   ]
  },
  {
   "cell_type": "code",
   "execution_count": 69,
   "metadata": {},
   "outputs": [
    {
     "data": {
      "text/html": [
       "<div>\n",
       "<style scoped>\n",
       "    .dataframe tbody tr th:only-of-type {\n",
       "        vertical-align: middle;\n",
       "    }\n",
       "\n",
       "    .dataframe tbody tr th {\n",
       "        vertical-align: top;\n",
       "    }\n",
       "\n",
       "    .dataframe thead th {\n",
       "        text-align: right;\n",
       "    }\n",
       "</style>\n",
       "<table border=\"1\" class=\"dataframe\">\n",
       "  <thead>\n",
       "    <tr style=\"text-align: right;\">\n",
       "      <th></th>\n",
       "      <th>DataYear</th>\n",
       "      <th>BuildingType</th>\n",
       "      <th>PrimaryPropertyType</th>\n",
       "      <th>CouncilDistrictCode</th>\n",
       "      <th>Neighborhood</th>\n",
       "      <th>YearBuilt</th>\n",
       "      <th>NumberofFloors</th>\n",
       "      <th>LargestPropertyUseType</th>\n",
       "      <th>ENERGYSTARScore</th>\n",
       "      <th>SiteEnergyUse(kBtu)</th>\n",
       "      <th>TotalGHGEmissions</th>\n",
       "      <th>Latitude</th>\n",
       "      <th>Longitude</th>\n",
       "      <th>Address</th>\n",
       "      <th>ZipCode</th>\n",
       "      <th>default_data</th>\n",
       "      <th>lat_long_range</th>\n",
       "      <th>address_type</th>\n",
       "    </tr>\n",
       "  </thead>\n",
       "  <tbody>\n",
       "    <tr>\n",
       "      <th>0</th>\n",
       "      <td>2015</td>\n",
       "      <td>NonResidential</td>\n",
       "      <td>Hotel</td>\n",
       "      <td>7</td>\n",
       "      <td>DOWNTOWN</td>\n",
       "      <td>1927</td>\n",
       "      <td>12.0</td>\n",
       "      <td>Hotel</td>\n",
       "      <td>65.0</td>\n",
       "      <td>6981428.0</td>\n",
       "      <td>249.43</td>\n",
       "      <td>47.612190</td>\n",
       "      <td>-122.337997</td>\n",
       "      <td>405 OLIVE WAY</td>\n",
       "      <td>98101.0</td>\n",
       "      <td>False</td>\n",
       "      <td>62</td>\n",
       "      <td>Way</td>\n",
       "    </tr>\n",
       "    <tr>\n",
       "      <th>1</th>\n",
       "      <td>2015</td>\n",
       "      <td>NonResidential</td>\n",
       "      <td>Hotel</td>\n",
       "      <td>7</td>\n",
       "      <td>DOWNTOWN</td>\n",
       "      <td>1996</td>\n",
       "      <td>11.0</td>\n",
       "      <td>Hotel</td>\n",
       "      <td>51.0</td>\n",
       "      <td>8354235.0</td>\n",
       "      <td>263.51</td>\n",
       "      <td>47.613106</td>\n",
       "      <td>-122.333358</td>\n",
       "      <td>724 PINE ST</td>\n",
       "      <td>98101.0</td>\n",
       "      <td>False</td>\n",
       "      <td>62</td>\n",
       "      <td>Street</td>\n",
       "    </tr>\n",
       "    <tr>\n",
       "      <th>5</th>\n",
       "      <td>2015</td>\n",
       "      <td>Nonresidential COS</td>\n",
       "      <td>Other</td>\n",
       "      <td>7</td>\n",
       "      <td>DOWNTOWN</td>\n",
       "      <td>1999</td>\n",
       "      <td>2.0</td>\n",
       "      <td>Police Station</td>\n",
       "      <td>NaN</td>\n",
       "      <td>12051984.0</td>\n",
       "      <td>304.62</td>\n",
       "      <td>47.616439</td>\n",
       "      <td>-122.336764</td>\n",
       "      <td>810 VIRGINIA ST</td>\n",
       "      <td>98101.0</td>\n",
       "      <td>False</td>\n",
       "      <td>62</td>\n",
       "      <td>Street</td>\n",
       "    </tr>\n",
       "    <tr>\n",
       "      <th>6</th>\n",
       "      <td>2015</td>\n",
       "      <td>NonResidential</td>\n",
       "      <td>Hotel</td>\n",
       "      <td>7</td>\n",
       "      <td>DOWNTOWN</td>\n",
       "      <td>1926</td>\n",
       "      <td>11.0</td>\n",
       "      <td>Hotel</td>\n",
       "      <td>25.0</td>\n",
       "      <td>6252842.0</td>\n",
       "      <td>208.46</td>\n",
       "      <td>47.614114</td>\n",
       "      <td>-122.332741</td>\n",
       "      <td>1619 9TH AVE</td>\n",
       "      <td>98101.0</td>\n",
       "      <td>False</td>\n",
       "      <td>62</td>\n",
       "      <td>Avenue</td>\n",
       "    </tr>\n",
       "    <tr>\n",
       "      <th>7</th>\n",
       "      <td>2015</td>\n",
       "      <td>NonResidential</td>\n",
       "      <td>Other</td>\n",
       "      <td>7</td>\n",
       "      <td>DOWNTOWN</td>\n",
       "      <td>1926</td>\n",
       "      <td>8.0</td>\n",
       "      <td>Other - Entertainment/Public Assembly</td>\n",
       "      <td>NaN</td>\n",
       "      <td>6426022.0</td>\n",
       "      <td>199.99</td>\n",
       "      <td>47.612902</td>\n",
       "      <td>-122.331309</td>\n",
       "      <td>901 PINE ST</td>\n",
       "      <td>98101.0</td>\n",
       "      <td>False</td>\n",
       "      <td>62</td>\n",
       "      <td>Street</td>\n",
       "    </tr>\n",
       "  </tbody>\n",
       "</table>\n",
       "</div>"
      ],
      "text/plain": [
       "   DataYear        BuildingType PrimaryPropertyType  CouncilDistrictCode  \\\n",
       "0      2015      NonResidential               Hotel                    7   \n",
       "1      2015      NonResidential               Hotel                    7   \n",
       "5      2015  Nonresidential COS               Other                    7   \n",
       "6      2015      NonResidential               Hotel                    7   \n",
       "7      2015      NonResidential               Other                    7   \n",
       "\n",
       "  Neighborhood  YearBuilt  NumberofFloors  \\\n",
       "0     DOWNTOWN       1927            12.0   \n",
       "1     DOWNTOWN       1996            11.0   \n",
       "5     DOWNTOWN       1999             2.0   \n",
       "6     DOWNTOWN       1926            11.0   \n",
       "7     DOWNTOWN       1926             8.0   \n",
       "\n",
       "                  LargestPropertyUseType  ENERGYSTARScore  \\\n",
       "0                                  Hotel             65.0   \n",
       "1                                  Hotel             51.0   \n",
       "5                         Police Station              NaN   \n",
       "6                                  Hotel             25.0   \n",
       "7  Other - Entertainment/Public Assembly              NaN   \n",
       "\n",
       "   SiteEnergyUse(kBtu)  TotalGHGEmissions   Latitude   Longitude  \\\n",
       "0            6981428.0             249.43  47.612190 -122.337997   \n",
       "1            8354235.0             263.51  47.613106 -122.333358   \n",
       "5           12051984.0             304.62  47.616439 -122.336764   \n",
       "6            6252842.0             208.46  47.614114 -122.332741   \n",
       "7            6426022.0             199.99  47.612902 -122.331309   \n",
       "\n",
       "           Address  ZipCode default_data lat_long_range address_type  \n",
       "0    405 OLIVE WAY  98101.0        False             62          Way  \n",
       "1      724 PINE ST  98101.0        False             62       Street  \n",
       "5  810 VIRGINIA ST  98101.0        False             62       Street  \n",
       "6     1619 9TH AVE  98101.0        False             62       Avenue  \n",
       "7      901 PINE ST  98101.0        False             62       Street  "
      ]
     },
     "execution_count": 69,
     "metadata": {},
     "output_type": "execute_result"
    }
   ],
   "source": [
    "data.head()"
   ]
  },
  {
   "cell_type": "markdown",
   "metadata": {},
   "source": [
    "## Random Forest Model"
   ]
  },
  {
   "cell_type": "code",
   "execution_count": 99,
   "metadata": {},
   "outputs": [],
   "source": [
    "def my_model(data, target, param_grid, test_size, target_log=False):\n",
    "\n",
    "    X = data.drop([target1, target2], axis=1)\n",
    "    y = data[target]\n",
    "    \n",
    "    if target_log:\n",
    "        y = np.log(data[target])\n",
    "\n",
    "    X_train, X_test, y_train, y_test = train_test_split(X, y, test_size=test_size, random_state=42)\n",
    "\n",
    "    scaler = StandardScaler()\n",
    "    scaler.fit(X_train)\n",
    "    X_train_scaled = scaler.transform(X_train)\n",
    "    X_test_scaled = scaler.transform(X_test)\n",
    "\n",
    "    score = 'neg_mean_squared_error'\n",
    "\n",
    "    # Cross validation classifier to get best parameters from the grid search\n",
    "    clf_rf = GridSearchCV(RandomForestRegressor(), param_grid, cv=5, scoring=score)\n",
    "    clf_rf.fit(X_train_scaled, y_train)\n",
    "    params = clf_rf.best_params_\n",
    "        \n",
    "    # Train prediction\n",
    "    y_train_pred = clf_rf.predict(X_train_scaled)\n",
    "    \n",
    "    # Test prediction\n",
    "    y_test_pred = clf_rf.predict(X_test_scaled)\n",
    "    \n",
    "    ############## Scores ##############\n",
    "    \n",
    "    # Get back to exponantial if we are in log for the target\n",
    "    if target_log:\n",
    "        y_train_pred = np.exp(y_train_pred)\n",
    "        y_train = np.exp(y_train)\n",
    "        y_test_pred = np.exp(y_test_pred)\n",
    "        y_test = np.exp(y_test)\n",
    "    \n",
    "    # Compute R2 and RMSE for both training set and test set\n",
    "    train_rmse = np.sqrt(mean_squared_error(y_train_pred, y_train))\n",
    "    train_r2 = r2_score(y_train_pred, y_train)\n",
    "    test_rmse = np.sqrt(mean_squared_error(y_test_pred, y_test))\n",
    "    test_r2 = r2_score(y_test_pred, y_test)\n",
    "    \n",
    "    # Push the score in a dict\n",
    "    scores = {\n",
    "        'train_rmse': train_rmse,\n",
    "        'train_r2': train_r2,\n",
    "        'test_rmse': test_rmse,\n",
    "        'test_r2': test_r2\n",
    "    }\n",
    "    \n",
    "    # Return the classifier, y test and scores\n",
    "    return clf_rf, y_test_pred, y_test, scores"
   ]
  },
  {
   "cell_type": "markdown",
   "metadata": {},
   "source": [
    "## Run it - Site Energy Use"
   ]
  },
  {
   "cell_type": "markdown",
   "metadata": {},
   "source": [
    "#### Data without EnergyStarScore"
   ]
  },
  {
   "cell_type": "code",
   "execution_count": 89,
   "metadata": {},
   "outputs": [
    {
     "data": {
      "text/plain": [
       "{'max_features': 'auto', 'n_estimators': 100, 'n_jobs': -1, 'random_state': 42}"
      ]
     },
     "metadata": {},
     "output_type": "display_data"
    },
    {
     "data": {
      "text/plain": [
       "{'train_rmse': 659444.4432438054,\n",
       " 'train_r2': 0.9615378919272551,\n",
       " 'test_rmse': 1923906.5763574117,\n",
       " 'test_r2': 0.601029734411783}"
      ]
     },
     "metadata": {},
     "output_type": "display_data"
    }
   ],
   "source": [
    "param_grid = {'n_estimators': [100],\n",
    "              'max_features': [\"auto\"],\n",
    "              'n_jobs': [-1],\n",
    "              'random_state': [42]\n",
    "              }\n",
    "\n",
    "classifier1, y_pred, y_test, scores = my_model(data_prep.drop(\"ENERGYSTARScore\", axis=1), target1, param_grid, test_size=0.20)\n",
    "display(classifier1.best_params_)\n",
    "display(scores)"
   ]
  },
  {
   "cell_type": "markdown",
   "metadata": {},
   "source": [
    "#### Data with EnergyStarScore + filled empty values"
   ]
  },
  {
   "cell_type": "code",
   "execution_count": 74,
   "metadata": {},
   "outputs": [
    {
     "data": {
      "text/plain": [
       "{'max_features': 'auto', 'n_estimators': 100, 'n_jobs': -1, 'random_state': 42}"
      ]
     },
     "metadata": {},
     "output_type": "display_data"
    },
    {
     "data": {
      "text/plain": [
       "{'train_rmse': 666097.7116605289,\n",
       " 'train_r2': 0.9608423871375331,\n",
       " 'test_rmse': 1896538.2733693456,\n",
       " 'test_r2': 0.6178497238074636}"
      ]
     },
     "metadata": {},
     "output_type": "display_data"
    }
   ],
   "source": [
    "param_grid = {'n_estimators': [100],\n",
    "              'max_features': [\"auto\"],\n",
    "              'n_jobs': [-1],\n",
    "              'random_state': [42]\n",
    "              }\n",
    "\n",
    "classifier2, y_pred, y_test, scores = my_model(data_prep, target1, param_grid, test_size=0.20)\n",
    "display(classifier1.best_params_)\n",
    "display(scores)"
   ]
  },
  {
   "cell_type": "markdown",
   "metadata": {},
   "source": [
    "#### Data with only EnergyStarScore available"
   ]
  },
  {
   "cell_type": "code",
   "execution_count": 93,
   "metadata": {},
   "outputs": [
    {
     "data": {
      "text/plain": [
       "{'max_features': 'auto', 'n_estimators': 100, 'n_jobs': -1, 'random_state': 42}"
      ]
     },
     "metadata": {},
     "output_type": "display_data"
    },
    {
     "data": {
      "text/plain": [
       "{'train_rmse': 694553.2281850692,\n",
       " 'train_r2': 0.9572652192404036,\n",
       " 'test_rmse': 1676413.3050465945,\n",
       " 'test_r2': 0.743560061515294}"
      ]
     },
     "metadata": {},
     "output_type": "display_data"
    }
   ],
   "source": [
    "param_grid = {'n_estimators': [100],\n",
    "              'max_features': [\"auto\"],\n",
    "              'n_jobs': [-1],\n",
    "              'random_state': [42]\n",
    "              }\n",
    "classifier3, y_pred, y_test, scores = my_model(data_prep_ess, target1, param_grid, test_size=0.20)\n",
    "display(classifier3.best_params_)\n",
    "display(scores)"
   ]
  },
  {
   "cell_type": "markdown",
   "metadata": {},
   "source": [
    "#### Data with outliers"
   ]
  },
  {
   "cell_type": "code",
   "execution_count": 78,
   "metadata": {},
   "outputs": [
    {
     "data": {
      "text/plain": [
       "{'max_features': 'auto', 'n_estimators': 100, 'n_jobs': -1, 'random_state': 42}"
      ]
     },
     "metadata": {},
     "output_type": "display_data"
    },
    {
     "data": {
      "text/plain": [
       "{'train_rmse': 4215208.219864903,\n",
       " 'train_r2': 0.8860165395613738,\n",
       " 'test_rmse': 7594725.810338778,\n",
       " 'test_r2': 0.6383984615778551}"
      ]
     },
     "metadata": {},
     "output_type": "display_data"
    }
   ],
   "source": [
    "param_grid = {'n_estimators': [100],\n",
    "              'max_features': [\"auto\"],\n",
    "              'n_jobs': [-1],\n",
    "              'random_state': [42]\n",
    "              }\n",
    "\n",
    "classifier4, y_pred, y_test, scores = my_model(data_with_outliers_prep, target1, param_grid, test_size=0.2)\n",
    "display(classifier4.best_params_)\n",
    "display(scores)"
   ]
  },
  {
   "cell_type": "markdown",
   "metadata": {},
   "source": [
    "## Run it - TotalGHGEmissions"
   ]
  },
  {
   "cell_type": "markdown",
   "metadata": {},
   "source": [
    "#### Data without EnergyStarScore"
   ]
  },
  {
   "cell_type": "code",
   "execution_count": 100,
   "metadata": {},
   "outputs": [
    {
     "data": {
      "text/plain": [
       "{'max_features': 'auto', 'n_estimators': 100, 'n_jobs': -1, 'random_state': 42}"
      ]
     },
     "metadata": {},
     "output_type": "display_data"
    },
    {
     "data": {
      "text/plain": [
       "{'train_rmse': 16.514009407217518,\n",
       " 'train_r2': 0.9376383982980593,\n",
       " 'test_rmse': 47.12160124033845,\n",
       " 'test_r2': 0.30869854674751784}"
      ]
     },
     "metadata": {},
     "output_type": "display_data"
    }
   ],
   "source": [
    "param_grid = {'n_estimators': [100],\n",
    "              'max_features': [\"auto\"],\n",
    "              'n_jobs': [-1],\n",
    "              'random_state': [42]\n",
    "              }\n",
    "\n",
    "classifier5, y_pred, y_test, scores = my_model(data_prep.drop(\"ENERGYSTARScore\", axis=1), target2, param_grid, test_size=0.20)\n",
    "display(classifier5.best_params_)\n",
    "display(scores)"
   ]
  },
  {
   "cell_type": "markdown",
   "metadata": {},
   "source": [
    "#### Data with EnergyStarScore + filled empty values"
   ]
  },
  {
   "cell_type": "code",
   "execution_count": 101,
   "metadata": {},
   "outputs": [
    {
     "data": {
      "text/plain": [
       "{'max_features': 'auto', 'n_estimators': 100, 'n_jobs': -1, 'random_state': 42}"
      ]
     },
     "metadata": {},
     "output_type": "display_data"
    },
    {
     "data": {
      "text/plain": [
       "{'train_rmse': 16.814221487571963,\n",
       " 'train_r2': 0.9343754119423607,\n",
       " 'test_rmse': 47.02744383763117,\n",
       " 'test_r2': 0.2556774440738857}"
      ]
     },
     "metadata": {},
     "output_type": "display_data"
    }
   ],
   "source": [
    "param_grid = {'n_estimators': [100],\n",
    "              'max_features': [\"auto\"],\n",
    "              'n_jobs': [-1],\n",
    "              'random_state': [42]\n",
    "              }\n",
    "\n",
    "classifier6, y_pred, y_test, scores = my_model(data_prep, target2, param_grid, test_size=0.20)\n",
    "display(classifier6.best_params_)\n",
    "display(scores)"
   ]
  },
  {
   "cell_type": "markdown",
   "metadata": {},
   "source": [
    "#### Data with only EnergyStarScore available"
   ]
  },
  {
   "cell_type": "code",
   "execution_count": 102,
   "metadata": {},
   "outputs": [
    {
     "data": {
      "text/plain": [
       "{'max_features': 'auto', 'n_estimators': 100, 'n_jobs': -1, 'random_state': 42}"
      ]
     },
     "metadata": {},
     "output_type": "display_data"
    },
    {
     "data": {
      "text/plain": [
       "{'train_rmse': 16.83488228865185,\n",
       " 'train_r2': 0.9332441267183788,\n",
       " 'test_rmse': 44.77393721536224,\n",
       " 'test_r2': 0.32742952247137}"
      ]
     },
     "metadata": {},
     "output_type": "display_data"
    }
   ],
   "source": [
    "param_grid = {'n_estimators': [100],\n",
    "              'max_features': [\"auto\"],\n",
    "              'n_jobs': [-1],\n",
    "              'random_state': [42]\n",
    "              }\n",
    "classifier7, y_pred, y_test, scores = my_model(data_prep_ess, target2, param_grid, test_size=0.20)\n",
    "display(classifier7.best_params_)\n",
    "display(scores)"
   ]
  },
  {
   "cell_type": "markdown",
   "metadata": {},
   "source": [
    "#### Data with outliers"
   ]
  },
  {
   "cell_type": "code",
   "execution_count": 103,
   "metadata": {},
   "outputs": [
    {
     "data": {
      "text/plain": [
       "{'max_features': 'auto', 'n_estimators': 100, 'n_jobs': -1, 'random_state': 42}"
      ]
     },
     "metadata": {},
     "output_type": "display_data"
    },
    {
     "data": {
      "text/plain": [
       "{'train_rmse': 143.30817549237543,\n",
       " 'train_r2': 0.8612698286776959,\n",
       " 'test_rmse': 291.624469542639,\n",
       " 'test_r2': 0.40599412721476014}"
      ]
     },
     "metadata": {},
     "output_type": "display_data"
    }
   ],
   "source": [
    "param_grid = {'n_estimators': [100],\n",
    "              'max_features': [\"auto\"],\n",
    "              'n_jobs': [-1],\n",
    "              'random_state': [42]\n",
    "              }\n",
    "\n",
    "classifier8, y_pred, y_test, scores = my_model(data_with_outliers_prep, target2, param_grid, test_size=0.2)\n",
    "display(classifier8.best_params_)\n",
    "display(scores)"
   ]
  }
 ],
 "metadata": {
  "kernelspec": {
   "display_name": "Python 3",
   "language": "python",
   "name": "python3"
  },
  "language_info": {
   "codemirror_mode": {
    "name": "ipython",
    "version": 3
   },
   "file_extension": ".py",
   "mimetype": "text/x-python",
   "name": "python",
   "nbconvert_exporter": "python",
   "pygments_lexer": "ipython3",
   "version": "3.7.3"
  }
 },
 "nbformat": 4,
 "nbformat_minor": 4
}
